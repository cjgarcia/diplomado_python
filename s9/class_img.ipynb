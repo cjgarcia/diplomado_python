{
 "metadata": {
  "language_info": {
   "codemirror_mode": {
    "name": "ipython",
    "version": 3
   },
   "file_extension": ".py",
   "mimetype": "text/x-python",
   "name": "python",
   "nbconvert_exporter": "python",
   "pygments_lexer": "ipython3",
   "version": "3.6.9-final"
  },
  "orig_nbformat": 2,
  "kernelspec": {
   "name": "python_defaultSpec_1599419141260",
   "display_name": "Python 3.6.9 64-bit ('dpyvenv': virtualenv)"
  }
 },
 "nbformat": 4,
 "nbformat_minor": 2,
 "cells": [
  {
   "cell_type": "code",
   "execution_count": 1,
   "metadata": {},
   "outputs": [],
   "source": [
    "import tensorflow as tf\n",
    "import numpy as np\n",
    "from tensorflow import keras\n",
    "import matplotlib.pyplot as plt"
   ]
  },
  {
   "cell_type": "code",
   "execution_count": 2,
   "metadata": {},
   "outputs": [],
   "source": [
    "## Obtener la data de las imagenes:\n",
    "\n",
    "dataset_fotos = tf.keras.datasets.fashion_mnist"
   ]
  },
  {
   "cell_type": "code",
   "execution_count": 3,
   "metadata": {},
   "outputs": [],
   "source": [
    "## Asignando la data a los conjuntos de entrenamiento y prueba (x,y)\n",
    "(imagenes_entrenamiento, labels_entrenamiento), (imagenes_prueba, labels_prueba) = dataset_fotos.load_data()"
   ]
  },
  {
   "cell_type": "code",
   "execution_count": 4,
   "metadata": {},
   "outputs": [],
   "source": [
    "## Configurando Numpy para que separe las lineas de arrays en 200 horizontal\n",
    "np.set_printoptions(linewidth=200)\n"
   ]
  },
  {
   "cell_type": "code",
   "execution_count": 12,
   "metadata": {
    "tags": []
   },
   "outputs": [
    {
     "output_type": "stream",
     "name": "stdout",
     "text": "0\n"
    },
    {
     "output_type": "display_data",
     "data": {
      "text/plain": "<Figure size 432x288 with 1 Axes>",
      "image/svg+xml": "<?xml version=\"1.0\" encoding=\"utf-8\" standalone=\"no\"?>\n<!DOCTYPE svg PUBLIC \"-//W3C//DTD SVG 1.1//EN\"\n  \"http://www.w3.org/Graphics/SVG/1.1/DTD/svg11.dtd\">\n<!-- Created with matplotlib (https://matplotlib.org/) -->\n<svg height=\"248.518125pt\" version=\"1.1\" viewBox=\"0 0 251.565 248.518125\" width=\"251.565pt\" xmlns=\"http://www.w3.org/2000/svg\" xmlns:xlink=\"http://www.w3.org/1999/xlink\">\n <metadata>\n  <rdf:RDF xmlns:cc=\"http://creativecommons.org/ns#\" xmlns:dc=\"http://purl.org/dc/elements/1.1/\" xmlns:rdf=\"http://www.w3.org/1999/02/22-rdf-syntax-ns#\">\n   <cc:Work>\n    <dc:type rdf:resource=\"http://purl.org/dc/dcmitype/StillImage\"/>\n    <dc:date>2020-09-06T15:07:19.763842</dc:date>\n    <dc:format>image/svg+xml</dc:format>\n    <dc:creator>\n     <cc:Agent>\n      <dc:title>Matplotlib v3.3.1, https://matplotlib.org/</dc:title>\n     </cc:Agent>\n    </dc:creator>\n   </cc:Work>\n  </rdf:RDF>\n </metadata>\n <defs>\n  <style type=\"text/css\">*{stroke-linecap:butt;stroke-linejoin:round;}</style>\n </defs>\n <g id=\"figure_1\">\n  <g id=\"patch_1\">\n   <path d=\"M 0 248.518125 \nL 251.565 248.518125 \nL 251.565 0 \nL 0 0 \nz\n\" style=\"fill:none;\"/>\n  </g>\n  <g id=\"axes_1\">\n   <g id=\"patch_2\">\n    <path d=\"M 26.925 224.64 \nL 244.365 224.64 \nL 244.365 7.2 \nL 26.925 7.2 \nz\n\" style=\"fill:#ffffff;\"/>\n   </g>\n   <g clip-path=\"url(#p020e69d5cb)\">\n    <image height=\"218\" id=\"imagecb987cc161\" transform=\"scale(1 -1)translate(0 -218)\" width=\"218\" x=\"26.925\" xlink:href=\"data:image/png;base64,\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\" y=\"-6.64\"/>\n   </g>\n   <g id=\"matplotlib.axis_1\">\n    <g id=\"xtick_1\">\n     <g id=\"line2d_1\">\n      <defs>\n       <path d=\"M 0 0 \nL 0 3.5 \n\" id=\"m466e3e1d3d\" style=\"stroke:#000000;stroke-width:0.8;\"/>\n      </defs>\n      <g>\n       <use style=\"stroke:#000000;stroke-width:0.8;\" x=\"30.807857\" xlink:href=\"#m466e3e1d3d\" y=\"224.64\"/>\n      </g>\n     </g>\n     <g id=\"text_1\">\n      <!-- 0 -->\n      <g transform=\"translate(27.626607 239.238437)scale(0.1 -0.1)\">\n       <defs>\n        <path d=\"M 31.78125 66.40625 \nQ 24.171875 66.40625 20.328125 58.90625 \nQ 16.5 51.421875 16.5 36.375 \nQ 16.5 21.390625 20.328125 13.890625 \nQ 24.171875 6.390625 31.78125 6.390625 \nQ 39.453125 6.390625 43.28125 13.890625 \nQ 47.125 21.390625 47.125 36.375 \nQ 47.125 51.421875 43.28125 58.90625 \nQ 39.453125 66.40625 31.78125 66.40625 \nz\nM 31.78125 74.21875 \nQ 44.046875 74.21875 50.515625 64.515625 \nQ 56.984375 54.828125 56.984375 36.375 \nQ 56.984375 17.96875 50.515625 8.265625 \nQ 44.046875 -1.421875 31.78125 -1.421875 \nQ 19.53125 -1.421875 13.0625 8.265625 \nQ 6.59375 17.96875 6.59375 36.375 \nQ 6.59375 54.828125 13.0625 64.515625 \nQ 19.53125 74.21875 31.78125 74.21875 \nz\n\" id=\"DejaVuSans-48\"/>\n       </defs>\n       <use xlink:href=\"#DejaVuSans-48\"/>\n      </g>\n     </g>\n    </g>\n    <g id=\"xtick_2\">\n     <g id=\"line2d_2\">\n      <g>\n       <use style=\"stroke:#000000;stroke-width:0.8;\" x=\"69.636429\" xlink:href=\"#m466e3e1d3d\" y=\"224.64\"/>\n      </g>\n     </g>\n     <g id=\"text_2\">\n      <!-- 5 -->\n      <g transform=\"translate(66.455179 239.238437)scale(0.1 -0.1)\">\n       <defs>\n        <path d=\"M 10.796875 72.90625 \nL 49.515625 72.90625 \nL 49.515625 64.59375 \nL 19.828125 64.59375 \nL 19.828125 46.734375 \nQ 21.96875 47.46875 24.109375 47.828125 \nQ 26.265625 48.1875 28.421875 48.1875 \nQ 40.625 48.1875 47.75 41.5 \nQ 54.890625 34.8125 54.890625 23.390625 \nQ 54.890625 11.625 47.5625 5.09375 \nQ 40.234375 -1.421875 26.90625 -1.421875 \nQ 22.3125 -1.421875 17.546875 -0.640625 \nQ 12.796875 0.140625 7.71875 1.703125 \nL 7.71875 11.625 \nQ 12.109375 9.234375 16.796875 8.0625 \nQ 21.484375 6.890625 26.703125 6.890625 \nQ 35.15625 6.890625 40.078125 11.328125 \nQ 45.015625 15.765625 45.015625 23.390625 \nQ 45.015625 31 40.078125 35.4375 \nQ 35.15625 39.890625 26.703125 39.890625 \nQ 22.75 39.890625 18.8125 39.015625 \nQ 14.890625 38.140625 10.796875 36.28125 \nz\n\" id=\"DejaVuSans-53\"/>\n       </defs>\n       <use xlink:href=\"#DejaVuSans-53\"/>\n      </g>\n     </g>\n    </g>\n    <g id=\"xtick_3\">\n     <g id=\"line2d_3\">\n      <g>\n       <use style=\"stroke:#000000;stroke-width:0.8;\" x=\"108.465\" xlink:href=\"#m466e3e1d3d\" y=\"224.64\"/>\n      </g>\n     </g>\n     <g id=\"text_3\">\n      <!-- 10 -->\n      <g transform=\"translate(102.1025 239.238437)scale(0.1 -0.1)\">\n       <defs>\n        <path d=\"M 12.40625 8.296875 \nL 28.515625 8.296875 \nL 28.515625 63.921875 \nL 10.984375 60.40625 \nL 10.984375 69.390625 \nL 28.421875 72.90625 \nL 38.28125 72.90625 \nL 38.28125 8.296875 \nL 54.390625 8.296875 \nL 54.390625 0 \nL 12.40625 0 \nz\n\" id=\"DejaVuSans-49\"/>\n       </defs>\n       <use xlink:href=\"#DejaVuSans-49\"/>\n       <use x=\"63.623047\" xlink:href=\"#DejaVuSans-48\"/>\n      </g>\n     </g>\n    </g>\n    <g id=\"xtick_4\">\n     <g id=\"line2d_4\">\n      <g>\n       <use style=\"stroke:#000000;stroke-width:0.8;\" x=\"147.293571\" xlink:href=\"#m466e3e1d3d\" y=\"224.64\"/>\n      </g>\n     </g>\n     <g id=\"text_4\">\n      <!-- 15 -->\n      <g transform=\"translate(140.931071 239.238437)scale(0.1 -0.1)\">\n       <use xlink:href=\"#DejaVuSans-49\"/>\n       <use x=\"63.623047\" xlink:href=\"#DejaVuSans-53\"/>\n      </g>\n     </g>\n    </g>\n    <g id=\"xtick_5\">\n     <g id=\"line2d_5\">\n      <g>\n       <use style=\"stroke:#000000;stroke-width:0.8;\" x=\"186.122143\" xlink:href=\"#m466e3e1d3d\" y=\"224.64\"/>\n      </g>\n     </g>\n     <g id=\"text_5\">\n      <!-- 20 -->\n      <g transform=\"translate(179.759643 239.238437)scale(0.1 -0.1)\">\n       <defs>\n        <path d=\"M 19.1875 8.296875 \nL 53.609375 8.296875 \nL 53.609375 0 \nL 7.328125 0 \nL 7.328125 8.296875 \nQ 12.9375 14.109375 22.625 23.890625 \nQ 32.328125 33.6875 34.8125 36.53125 \nQ 39.546875 41.84375 41.421875 45.53125 \nQ 43.3125 49.21875 43.3125 52.78125 \nQ 43.3125 58.59375 39.234375 62.25 \nQ 35.15625 65.921875 28.609375 65.921875 \nQ 23.96875 65.921875 18.8125 64.3125 \nQ 13.671875 62.703125 7.8125 59.421875 \nL 7.8125 69.390625 \nQ 13.765625 71.78125 18.9375 73 \nQ 24.125 74.21875 28.421875 74.21875 \nQ 39.75 74.21875 46.484375 68.546875 \nQ 53.21875 62.890625 53.21875 53.421875 \nQ 53.21875 48.921875 51.53125 44.890625 \nQ 49.859375 40.875 45.40625 35.40625 \nQ 44.1875 33.984375 37.640625 27.21875 \nQ 31.109375 20.453125 19.1875 8.296875 \nz\n\" id=\"DejaVuSans-50\"/>\n       </defs>\n       <use xlink:href=\"#DejaVuSans-50\"/>\n       <use x=\"63.623047\" xlink:href=\"#DejaVuSans-48\"/>\n      </g>\n     </g>\n    </g>\n    <g id=\"xtick_6\">\n     <g id=\"line2d_6\">\n      <g>\n       <use style=\"stroke:#000000;stroke-width:0.8;\" x=\"224.950714\" xlink:href=\"#m466e3e1d3d\" y=\"224.64\"/>\n      </g>\n     </g>\n     <g id=\"text_6\">\n      <!-- 25 -->\n      <g transform=\"translate(218.588214 239.238437)scale(0.1 -0.1)\">\n       <use xlink:href=\"#DejaVuSans-50\"/>\n       <use x=\"63.623047\" xlink:href=\"#DejaVuSans-53\"/>\n      </g>\n     </g>\n    </g>\n   </g>\n   <g id=\"matplotlib.axis_2\">\n    <g id=\"ytick_1\">\n     <g id=\"line2d_7\">\n      <defs>\n       <path d=\"M 0 0 \nL -3.5 0 \n\" id=\"m7ccd595087\" style=\"stroke:#000000;stroke-width:0.8;\"/>\n      </defs>\n      <g>\n       <use style=\"stroke:#000000;stroke-width:0.8;\" x=\"26.925\" xlink:href=\"#m7ccd595087\" y=\"11.082857\"/>\n      </g>\n     </g>\n     <g id=\"text_7\">\n      <!-- 0 -->\n      <g transform=\"translate(13.5625 14.882076)scale(0.1 -0.1)\">\n       <use xlink:href=\"#DejaVuSans-48\"/>\n      </g>\n     </g>\n    </g>\n    <g id=\"ytick_2\">\n     <g id=\"line2d_8\">\n      <g>\n       <use style=\"stroke:#000000;stroke-width:0.8;\" x=\"26.925\" xlink:href=\"#m7ccd595087\" y=\"49.911429\"/>\n      </g>\n     </g>\n     <g id=\"text_8\">\n      <!-- 5 -->\n      <g transform=\"translate(13.5625 53.710647)scale(0.1 -0.1)\">\n       <use xlink:href=\"#DejaVuSans-53\"/>\n      </g>\n     </g>\n    </g>\n    <g id=\"ytick_3\">\n     <g id=\"line2d_9\">\n      <g>\n       <use style=\"stroke:#000000;stroke-width:0.8;\" x=\"26.925\" xlink:href=\"#m7ccd595087\" y=\"88.74\"/>\n      </g>\n     </g>\n     <g id=\"text_9\">\n      <!-- 10 -->\n      <g transform=\"translate(7.2 92.539219)scale(0.1 -0.1)\">\n       <use xlink:href=\"#DejaVuSans-49\"/>\n       <use x=\"63.623047\" xlink:href=\"#DejaVuSans-48\"/>\n      </g>\n     </g>\n    </g>\n    <g id=\"ytick_4\">\n     <g id=\"line2d_10\">\n      <g>\n       <use style=\"stroke:#000000;stroke-width:0.8;\" x=\"26.925\" xlink:href=\"#m7ccd595087\" y=\"127.568571\"/>\n      </g>\n     </g>\n     <g id=\"text_10\">\n      <!-- 15 -->\n      <g transform=\"translate(7.2 131.36779)scale(0.1 -0.1)\">\n       <use xlink:href=\"#DejaVuSans-49\"/>\n       <use x=\"63.623047\" xlink:href=\"#DejaVuSans-53\"/>\n      </g>\n     </g>\n    </g>\n    <g id=\"ytick_5\">\n     <g id=\"line2d_11\">\n      <g>\n       <use style=\"stroke:#000000;stroke-width:0.8;\" x=\"26.925\" xlink:href=\"#m7ccd595087\" y=\"166.397143\"/>\n      </g>\n     </g>\n     <g id=\"text_11\">\n      <!-- 20 -->\n      <g transform=\"translate(7.2 170.196362)scale(0.1 -0.1)\">\n       <use xlink:href=\"#DejaVuSans-50\"/>\n       <use x=\"63.623047\" xlink:href=\"#DejaVuSans-48\"/>\n      </g>\n     </g>\n    </g>\n    <g id=\"ytick_6\">\n     <g id=\"line2d_12\">\n      <g>\n       <use style=\"stroke:#000000;stroke-width:0.8;\" x=\"26.925\" xlink:href=\"#m7ccd595087\" y=\"205.225714\"/>\n      </g>\n     </g>\n     <g id=\"text_12\">\n      <!-- 25 -->\n      <g transform=\"translate(7.2 209.024933)scale(0.1 -0.1)\">\n       <use xlink:href=\"#DejaVuSans-50\"/>\n       <use x=\"63.623047\" xlink:href=\"#DejaVuSans-53\"/>\n      </g>\n     </g>\n    </g>\n   </g>\n   <g id=\"patch_3\">\n    <path d=\"M 26.925 224.64 \nL 26.925 7.2 \n\" style=\"fill:none;stroke:#000000;stroke-linecap:square;stroke-linejoin:miter;stroke-width:0.8;\"/>\n   </g>\n   <g id=\"patch_4\">\n    <path d=\"M 244.365 224.64 \nL 244.365 7.2 \n\" style=\"fill:none;stroke:#000000;stroke-linecap:square;stroke-linejoin:miter;stroke-width:0.8;\"/>\n   </g>\n   <g id=\"patch_5\">\n    <path d=\"M 26.925 224.64 \nL 244.365 224.64 \n\" style=\"fill:none;stroke:#000000;stroke-linecap:square;stroke-linejoin:miter;stroke-width:0.8;\"/>\n   </g>\n   <g id=\"patch_6\">\n    <path d=\"M 26.925 7.2 \nL 244.365 7.2 \n\" style=\"fill:none;stroke:#000000;stroke-linecap:square;stroke-linejoin:miter;stroke-width:0.8;\"/>\n   </g>\n  </g>\n </g>\n <defs>\n  <clipPath id=\"p020e69d5cb\">\n   <rect height=\"217.44\" width=\"217.44\" x=\"26.925\" y=\"7.2\"/>\n  </clipPath>\n </defs>\n</svg>\n",
      "image/png": "[encoded data removed]"
     },
     "metadata": {
      "needs_background": "light"
     }
    }
   ],
   "source": [
    "# Explorando el dataset\n",
    "\n",
    "plt.imshow(imagenes_entrenamiento[4])\n",
    "print(labels_entrenamiento[4])\n"
   ]
  },
  {
   "cell_type": "code",
   "execution_count": 6,
   "metadata": {},
   "outputs": [],
   "source": [
    "## Ajustamos los pixeles de las imagenes\n",
    "\n",
    "imagenes_entrenamiento = imagenes_entrenamiento / 255.0\n",
    "imagenes_prueba = imagenes_prueba / 255.0\n",
    "\n",
    "\n"
   ]
  },
  {
   "cell_type": "code",
   "execution_count": 7,
   "metadata": {},
   "outputs": [],
   "source": [
    "## Creamos el modelo:\n",
    "\n",
    "modelo = tf.keras.models.Sequential([tf.keras.layers.Flatten(), \n",
    "                                    tf.keras.layers.Dense(128, activation=tf.nn.relu), \n",
    "                                    tf.keras.layers.Dense(10, activation=tf.nn.softmax)])\n",
    "                                    "
   ]
  },
  {
   "cell_type": "code",
   "execution_count": 8,
   "metadata": {},
   "outputs": [],
   "source": [
    "## Funciones de optimizer and loss\n",
    "\n",
    "modelo.compile(optimizer= tf.optimizers.Adam(), loss='sparse_categorical_crossentropy', metrics=['accuracy'])\n"
   ]
  },
  {
   "cell_type": "code",
   "execution_count": 9,
   "metadata": {
    "tags": []
   },
   "outputs": [
    {
     "output_type": "stream",
     "name": "stdout",
     "text": "Epoch 1/5\n1875/1875 [==============================] - 4s 2ms/step - loss: 0.4984 - accuracy: 0.8241\nEpoch 2/5\n1875/1875 [==============================] - 4s 2ms/step - loss: 0.3765 - accuracy: 0.8641\nEpoch 3/5\n1875/1875 [==============================] - 4s 2ms/step - loss: 0.3367 - accuracy: 0.8783\nEpoch 4/5\n1875/1875 [==============================] - 4s 2ms/step - loss: 0.3132 - accuracy: 0.8853\nEpoch 5/5\n1875/1875 [==============================] - 4s 2ms/step - loss: 0.2945 - accuracy: 0.8913\n"
    },
    {
     "output_type": "execute_result",
     "data": {
      "text/plain": "<tensorflow.python.keras.callbacks.History at 0x7fe3ef4b1b00>"
     },
     "metadata": {},
     "execution_count": 9
    }
   ],
   "source": [
    "## Entrenar el modelo:\n",
    "\n",
    "modelo.fit(imagenes_entrenamiento, labels_entrenamiento, epochs=5)"
   ]
  },
  {
   "cell_type": "code",
   "execution_count": 11,
   "metadata": {
    "tags": []
   },
   "outputs": [
    {
     "output_type": "stream",
     "name": "stdout",
     "text": "313/313 [==============================] - 0s 1ms/step - loss: 0.3604 - accuracy: 0.8699\n"
    },
    {
     "output_type": "execute_result",
     "data": {
      "text/plain": "[0.3603678047657013, 0.8698999881744385]"
     },
     "metadata": {},
     "execution_count": 11
    }
   ],
   "source": [
    "## Evualuando el modelo con los datos de prueba:\n",
    "\n",
    "modelo.evaluate(imagenes_prueba, labels_prueba)"
   ]
  },
  {
   "cell_type": "code",
   "execution_count": null,
   "metadata": {},
   "outputs": [],
   "source": []
  }
 ]
}