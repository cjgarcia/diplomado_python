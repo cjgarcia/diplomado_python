{
 "cells": [
  {
   "cell_type": "markdown",
   "metadata": {},
   "source": [
    "# Introducción a Pandas\n",
    "### Crecencio J García T"
   ]
  },
  {
   "cell_type": "code",
   "execution_count": 4,
   "metadata": {},
   "outputs": [],
   "source": [
    "import pandas as pd"
   ]
  },
  {
   "cell_type": "markdown",
   "metadata": {},
   "source": [
    "## Series"
   ]
  },
  {
   "cell_type": "code",
   "execution_count": 3,
   "metadata": {},
   "outputs": [],
   "source": [
    "pd.Series?"
   ]
  },
  {
   "cell_type": "code",
   "execution_count": 6,
   "metadata": {},
   "outputs": [
    {
     "data": {
      "text/plain": [
       "0        lunes\n",
       "1       martes\n",
       "2    miercoles\n",
       "3       jueves\n",
       "4      viernes\n",
       "5       sabado\n",
       "6      domingo\n",
       "dtype: object"
      ]
     },
     "execution_count": 6,
     "metadata": {},
     "output_type": "execute_result"
    }
   ],
   "source": [
    "dias = ['lunes', 'martes', 'miercoles', 'jueves', 'viernes', 'sabado', 'domingo']\n",
    "dias_serie = pd.Series(dias)\n",
    "dias_serie\n"
   ]
  },
  {
   "cell_type": "code",
   "execution_count": 7,
   "metadata": {},
   "outputs": [
    {
     "name": "stdout",
     "output_type": "stream",
     "text": [
      "0        lunes\n",
      "1       martes\n",
      "2    miercoles\n",
      "3       jueves\n",
      "4      viernes\n",
      "5       sabado\n",
      "6      domingo\n",
      "Name: dias_semana, dtype: object\n"
     ]
    }
   ],
   "source": [
    "dias_serie = pd.Series(dias, name='dias_semana')\n",
    "print(dias_serie)"
   ]
  },
  {
   "cell_type": "markdown",
   "metadata": {},
   "source": [
    "### Crear una serie mediante un dict"
   ]
  },
  {
   "cell_type": "code",
   "execution_count": 10,
   "metadata": {
    "scrolled": true
   },
   "outputs": [
    {
     "data": {
      "text/plain": [
       "lun        lunes\n",
       "mar       martes\n",
       "mie    miercoles\n",
       "jue       jueves\n",
       "vie      viernes\n",
       "sab       sabado\n",
       "dom      domingo\n",
       "Name: dias_dict, dtype: object"
      ]
     },
     "execution_count": 10,
     "metadata": {},
     "output_type": "execute_result"
    }
   ],
   "source": [
    "dias_dict ={'lun': 'lunes', 'mar': 'martes', 'mie':'miercoles', 'jue': 'jueves', 'vie': 'viernes', 'sab': 'sabado', 'dom':'domingo'}\n",
    "dias_dict_s = pd.Series(dias_dict, name='dias_dict')\n",
    "dias_dict_s"
   ]
  },
  {
   "cell_type": "markdown",
   "metadata": {},
   "source": [
    "### Series numericas"
   ]
  },
  {
   "cell_type": "code",
   "execution_count": 19,
   "metadata": {},
   "outputs": [
    {
     "data": {
      "text/plain": [
       "0    1.0\n",
       "1    2.0\n",
       "2    3.0\n",
       "3    NaN\n",
       "dtype: float64"
      ]
     },
     "execution_count": 19,
     "metadata": {},
     "output_type": "execute_result"
    }
   ],
   "source": [
    "valores = pd.Series([1,2,3, None])\n",
    "valores"
   ]
  },
  {
   "cell_type": "markdown",
   "metadata": {},
   "source": [
    "### Series de Objetos"
   ]
  },
  {
   "cell_type": "code",
   "execution_count": 18,
   "metadata": {},
   "outputs": [
    {
     "data": {
      "text/plain": [
       "0     Hola\n",
       "1    Adios\n",
       "2        5\n",
       "3     None\n",
       "dtype: object"
      ]
     },
     "execution_count": 18,
     "metadata": {},
     "output_type": "execute_result"
    }
   ],
   "source": [
    "objectos = pd.Series(['Hola', 'Adios', 5, None])\n",
    "objectos"
   ]
  },
  {
   "cell_type": "markdown",
   "metadata": {},
   "source": [
    "### Elementos Faltantes"
   ]
  },
  {
   "cell_type": "code",
   "execution_count": 20,
   "metadata": {},
   "outputs": [],
   "source": [
    "import numpy as np"
   ]
  },
  {
   "cell_type": "code",
   "execution_count": 21,
   "metadata": {},
   "outputs": [
    {
     "data": {
      "text/plain": [
       "False"
      ]
     },
     "execution_count": 21,
     "metadata": {},
     "output_type": "execute_result"
    }
   ],
   "source": [
    "np.nan is None"
   ]
  },
  {
   "cell_type": "code",
   "execution_count": 22,
   "metadata": {},
   "outputs": [
    {
     "data": {
      "text/plain": [
       "True"
      ]
     },
     "execution_count": 22,
     "metadata": {},
     "output_type": "execute_result"
    }
   ],
   "source": [
    "np.nan is np.nan"
   ]
  },
  {
   "cell_type": "code",
   "execution_count": 23,
   "metadata": {},
   "outputs": [
    {
     "data": {
      "text/plain": [
       "False"
      ]
     },
     "execution_count": 23,
     "metadata": {},
     "output_type": "execute_result"
    }
   ],
   "source": [
    "np.nan == None"
   ]
  },
  {
   "cell_type": "code",
   "execution_count": 24,
   "metadata": {},
   "outputs": [
    {
     "data": {
      "text/plain": [
       "False"
      ]
     },
     "execution_count": 24,
     "metadata": {},
     "output_type": "execute_result"
    }
   ],
   "source": [
    "np.nan == np.nan"
   ]
  },
  {
   "cell_type": "markdown",
   "metadata": {},
   "source": [
    "#### Comprobar Not a Number"
   ]
  },
  {
   "cell_type": "code",
   "execution_count": 28,
   "metadata": {},
   "outputs": [
    {
     "data": {
      "text/plain": [
       "False"
      ]
     },
     "execution_count": 28,
     "metadata": {},
     "output_type": "execute_result"
    }
   ],
   "source": [
    "np.isnan(5)"
   ]
  },
  {
   "cell_type": "code",
   "execution_count": 29,
   "metadata": {},
   "outputs": [
    {
     "data": {
      "text/plain": [
       "True"
      ]
     },
     "execution_count": 29,
     "metadata": {},
     "output_type": "execute_result"
    }
   ],
   "source": [
    "np.isnan(np.nan)"
   ]
  },
  {
   "cell_type": "markdown",
   "metadata": {},
   "source": [
    "## Buscar en una serie:"
   ]
  },
  {
   "cell_type": "markdown",
   "metadata": {},
   "source": [
    "#### Buscar por Index o Fila:"
   ]
  },
  {
   "cell_type": "code",
   "execution_count": 32,
   "metadata": {},
   "outputs": [
    {
     "data": {
      "text/plain": [
       "'lunes'"
      ]
     },
     "execution_count": 32,
     "metadata": {},
     "output_type": "execute_result"
    }
   ],
   "source": [
    "dias_dict_s[0]"
   ]
  },
  {
   "cell_type": "code",
   "execution_count": 33,
   "metadata": {},
   "outputs": [
    {
     "data": {
      "text/plain": [
       "'lunes'"
      ]
     },
     "execution_count": 33,
     "metadata": {},
     "output_type": "execute_result"
    }
   ],
   "source": [
    "dias_dict_s.iloc[0]"
   ]
  },
  {
   "cell_type": "code",
   "execution_count": 34,
   "metadata": {},
   "outputs": [
    {
     "data": {
      "text/plain": [
       "'lunes'"
      ]
     },
     "execution_count": 34,
     "metadata": {},
     "output_type": "execute_result"
    }
   ],
   "source": [
    "dias_dict_s['lun']"
   ]
  },
  {
   "cell_type": "code",
   "execution_count": 36,
   "metadata": {},
   "outputs": [],
   "source": [
    "# dias_dict_s.iloc['lun'] No permitdio"
   ]
  },
  {
   "cell_type": "code",
   "execution_count": 41,
   "metadata": {},
   "outputs": [
    {
     "data": {
      "text/plain": [
       "'lunes'"
      ]
     },
     "execution_count": 41,
     "metadata": {},
     "output_type": "execute_result"
    }
   ],
   "source": [
    "dias_dict_s.loc['lun']"
   ]
  },
  {
   "cell_type": "markdown",
   "metadata": {},
   "source": [
    "## DataFrame"
   ]
  },
  {
   "cell_type": "markdown",
   "metadata": {},
   "source": [
    "### Definiendo un Pandas Dataframe"
   ]
  },
  {
   "cell_type": "code",
   "execution_count": 5,
   "metadata": {},
   "outputs": [],
   "source": [
    "pd.DataFrame?"
   ]
  },
  {
   "cell_type": "code",
   "execution_count": 6,
   "metadata": {
    "scrolled": true
   },
   "outputs": [
    {
     "data": {
      "text/html": [
       "<div>\n",
       "<style scoped>\n",
       "    .dataframe tbody tr th:only-of-type {\n",
       "        vertical-align: middle;\n",
       "    }\n",
       "\n",
       "    .dataframe tbody tr th {\n",
       "        vertical-align: top;\n",
       "    }\n",
       "\n",
       "    .dataframe thead th {\n",
       "        text-align: right;\n",
       "    }\n",
       "</style>\n",
       "<table border=\"1\" class=\"dataframe\">\n",
       "  <thead>\n",
       "    <tr style=\"text-align: right;\">\n",
       "      <th></th>\n",
       "      <th>item</th>\n",
       "      <th>cantidad</th>\n",
       "      <th>precio</th>\n",
       "    </tr>\n",
       "  </thead>\n",
       "  <tbody>\n",
       "    <tr>\n",
       "      <th>Tienda A</th>\n",
       "      <td>huevos</td>\n",
       "      <td>12</td>\n",
       "      <td>7.00</td>\n",
       "    </tr>\n",
       "    <tr>\n",
       "      <th>Tienda B</th>\n",
       "      <td>leche</td>\n",
       "      <td>2</td>\n",
       "      <td>65.00</td>\n",
       "    </tr>\n",
       "    <tr>\n",
       "      <th>Tienda C</th>\n",
       "      <td>queso</td>\n",
       "      <td>1</td>\n",
       "      <td>155.25</td>\n",
       "    </tr>\n",
       "    <tr>\n",
       "      <th>Tienda D</th>\n",
       "      <td>pan</td>\n",
       "      <td>10</td>\n",
       "      <td>5.00</td>\n",
       "    </tr>\n",
       "    <tr>\n",
       "      <th>Tienda D</th>\n",
       "      <td>jugo manzana</td>\n",
       "      <td>2</td>\n",
       "      <td>170.00</td>\n",
       "    </tr>\n",
       "  </tbody>\n",
       "</table>\n",
       "</div>"
      ],
      "text/plain": [
       "                  item  cantidad  precio\n",
       "Tienda A        huevos        12    7.00\n",
       "Tienda B         leche         2   65.00\n",
       "Tienda C         queso         1  155.25\n",
       "Tienda D           pan        10    5.00\n",
       "Tienda D  jugo manzana         2  170.00"
      ]
     },
     "execution_count": 6,
     "metadata": {},
     "output_type": "execute_result"
    }
   ],
   "source": [
    "# Creamos un pequeño dataset basado en 5 series\n",
    "\n",
    "compra_1 = pd.Series({\n",
    "    'item': 'huevos',\n",
    "    'cantidad': 12,\n",
    "    'precio': 7,\n",
    "})\n",
    "\n",
    "compra_2 = pd.Series({\n",
    "    'item': 'leche',\n",
    "    'cantidad': 2,\n",
    "    'precio': 65,\n",
    "})\n",
    "\n",
    "compra_3 = pd.Series({\n",
    "    'item': 'queso',\n",
    "    'cantidad': 1,\n",
    "    'precio': 155.25,\n",
    "})\n",
    "\n",
    "compra_4 = pd.Series({\n",
    "    'item': 'pan',\n",
    "    'cantidad': 10,\n",
    "    'precio': 5,\n",
    "})\n",
    "\n",
    "compra_5 = pd.Series({\n",
    "    'item': 'jugo manzana',\n",
    "    'cantidad': 2,\n",
    "    'precio': 170.00,\n",
    "})\n",
    "\n",
    "# Creamos una lista con todas las compras:\n",
    "compras = [compra_1, compra_2, compra_3, compra_4, compra_5]\n",
    "\n",
    "# Creamos una lista con los index que serían las tiendas:\n",
    "tiendas = ['Tienda A', 'Tienda B', 'Tienda C', 'Tienda D', 'Tienda D']\n",
    "\n",
    "# Creamos nuestro Pandas dataframe:\n",
    "compras_df = pd.DataFrame(compras, index=tiendas)\n",
    "\n",
    "# Mostramos por pantalla nuestro df:\n",
    "compras_df\n",
    "\n"
   ]
  },
  {
   "cell_type": "markdown",
   "metadata": {},
   "source": [
    "### Buscar en un Pandas Dataframe:"
   ]
  },
  {
   "cell_type": "markdown",
   "metadata": {},
   "source": [
    "#### Buscar una fila en particular:"
   ]
  },
  {
   "cell_type": "code",
   "execution_count": 9,
   "metadata": {},
   "outputs": [
    {
     "data": {
      "text/plain": [
       "item        huevos\n",
       "cantidad        12\n",
       "precio           7\n",
       "Name: Tienda A, dtype: object"
      ]
     },
     "execution_count": 9,
     "metadata": {},
     "output_type": "execute_result"
    }
   ],
   "source": [
    "tienda_a = compras_df.loc['Tienda A']\n",
    "tienda_a"
   ]
  },
  {
   "cell_type": "markdown",
   "metadata": {},
   "source": [
    "#### El tipo de datos de una fila en Pandas"
   ]
  },
  {
   "cell_type": "code",
   "execution_count": 10,
   "metadata": {},
   "outputs": [
    {
     "data": {
      "text/plain": [
       "pandas.core.series.Series"
      ]
     },
     "execution_count": 10,
     "metadata": {},
     "output_type": "execute_result"
    }
   ],
   "source": [
    "type(tienda_a)"
   ]
  },
  {
   "cell_type": "markdown",
   "metadata": {},
   "source": [
    "#### Buscar una columna en particular:"
   ]
  },
  {
   "cell_type": "code",
   "execution_count": 11,
   "metadata": {},
   "outputs": [
    {
     "data": {
      "text/plain": [
       "Tienda A          huevos\n",
       "Tienda B           leche\n",
       "Tienda C           queso\n",
       "Tienda D             pan\n",
       "Tienda D    jugo manzana\n",
       "Name: item, dtype: object"
      ]
     },
     "execution_count": 11,
     "metadata": {},
     "output_type": "execute_result"
    }
   ],
   "source": [
    "items_nombre = compras_df['item']\n",
    "items_nombre"
   ]
  },
  {
   "cell_type": "markdown",
   "metadata": {},
   "source": [
    "### Basado en lo que ya sabemos sobre Numpy. ¿Se les ocurre una forma de utilizar df.loc para buscar por columna?"
   ]
  },
  {
   "cell_type": "markdown",
   "metadata": {},
   "source": [
    "#### Buscar una celda en particular (por index):"
   ]
  },
  {
   "cell_type": "code",
   "execution_count": 14,
   "metadata": {},
   "outputs": [
    {
     "data": {
      "text/plain": [
       "'queso'"
      ]
     },
     "execution_count": 14,
     "metadata": {},
     "output_type": "execute_result"
    }
   ],
   "source": [
    "tienda_c_item = compras_df.loc['Tienda C', 'item']\n",
    "tienda_c_item"
   ]
  },
  {
   "cell_type": "markdown",
   "metadata": {},
   "source": [
    "#### Buscar una celda en particular (slicing):"
   ]
  },
  {
   "cell_type": "code",
   "execution_count": 15,
   "metadata": {},
   "outputs": [
    {
     "data": {
      "text/plain": [
       "'leche'"
      ]
     },
     "execution_count": 15,
     "metadata": {},
     "output_type": "execute_result"
    }
   ],
   "source": [
    "tienda_b_item = compras_df.loc['Tienda B']['item']\n",
    "tienda_b_item"
   ]
  },
  {
   "cell_type": "markdown",
   "metadata": {},
   "source": [
    "#### Buscar varias columnas con slicing:"
   ]
  },
  {
   "cell_type": "code",
   "execution_count": 17,
   "metadata": {},
   "outputs": [
    {
     "data": {
      "text/html": [
       "<div>\n",
       "<style scoped>\n",
       "    .dataframe tbody tr th:only-of-type {\n",
       "        vertical-align: middle;\n",
       "    }\n",
       "\n",
       "    .dataframe tbody tr th {\n",
       "        vertical-align: top;\n",
       "    }\n",
       "\n",
       "    .dataframe thead th {\n",
       "        text-align: right;\n",
       "    }\n",
       "</style>\n",
       "<table border=\"1\" class=\"dataframe\">\n",
       "  <thead>\n",
       "    <tr style=\"text-align: right;\">\n",
       "      <th></th>\n",
       "      <th>item</th>\n",
       "      <th>precio</th>\n",
       "    </tr>\n",
       "  </thead>\n",
       "  <tbody>\n",
       "    <tr>\n",
       "      <th>Tienda A</th>\n",
       "      <td>huevos</td>\n",
       "      <td>7.00</td>\n",
       "    </tr>\n",
       "    <tr>\n",
       "      <th>Tienda B</th>\n",
       "      <td>leche</td>\n",
       "      <td>65.00</td>\n",
       "    </tr>\n",
       "    <tr>\n",
       "      <th>Tienda C</th>\n",
       "      <td>queso</td>\n",
       "      <td>155.25</td>\n",
       "    </tr>\n",
       "    <tr>\n",
       "      <th>Tienda D</th>\n",
       "      <td>pan</td>\n",
       "      <td>5.00</td>\n",
       "    </tr>\n",
       "    <tr>\n",
       "      <th>Tienda D</th>\n",
       "      <td>jugo manzana</td>\n",
       "      <td>170.00</td>\n",
       "    </tr>\n",
       "  </tbody>\n",
       "</table>\n",
       "</div>"
      ],
      "text/plain": [
       "                  item  precio\n",
       "Tienda A        huevos    7.00\n",
       "Tienda B         leche   65.00\n",
       "Tienda C         queso  155.25\n",
       "Tienda D           pan    5.00\n",
       "Tienda D  jugo manzana  170.00"
      ]
     },
     "execution_count": 17,
     "metadata": {},
     "output_type": "execute_result"
    }
   ],
   "source": [
    "nombre_precio = compras_df.loc[:, ['item', 'precio']]\n",
    "nombre_precio"
   ]
  },
  {
   "cell_type": "markdown",
   "metadata": {},
   "source": [
    "### Eliminar filas y columnas en un DataFrame:"
   ]
  },
  {
   "cell_type": "markdown",
   "metadata": {},
   "source": [
    "#### Eliminar por index:"
   ]
  },
  {
   "cell_type": "code",
   "execution_count": 20,
   "metadata": {},
   "outputs": [
    {
     "data": {
      "text/html": [
       "<div>\n",
       "<style scoped>\n",
       "    .dataframe tbody tr th:only-of-type {\n",
       "        vertical-align: middle;\n",
       "    }\n",
       "\n",
       "    .dataframe tbody tr th {\n",
       "        vertical-align: top;\n",
       "    }\n",
       "\n",
       "    .dataframe thead th {\n",
       "        text-align: right;\n",
       "    }\n",
       "</style>\n",
       "<table border=\"1\" class=\"dataframe\">\n",
       "  <thead>\n",
       "    <tr style=\"text-align: right;\">\n",
       "      <th></th>\n",
       "      <th>item</th>\n",
       "      <th>cantidad</th>\n",
       "      <th>precio</th>\n",
       "    </tr>\n",
       "  </thead>\n",
       "  <tbody>\n",
       "    <tr>\n",
       "      <th>Tienda B</th>\n",
       "      <td>leche</td>\n",
       "      <td>2</td>\n",
       "      <td>65.00</td>\n",
       "    </tr>\n",
       "    <tr>\n",
       "      <th>Tienda C</th>\n",
       "      <td>queso</td>\n",
       "      <td>1</td>\n",
       "      <td>155.25</td>\n",
       "    </tr>\n",
       "    <tr>\n",
       "      <th>Tienda D</th>\n",
       "      <td>pan</td>\n",
       "      <td>10</td>\n",
       "      <td>5.00</td>\n",
       "    </tr>\n",
       "    <tr>\n",
       "      <th>Tienda D</th>\n",
       "      <td>jugo manzana</td>\n",
       "      <td>2</td>\n",
       "      <td>170.00</td>\n",
       "    </tr>\n",
       "  </tbody>\n",
       "</table>\n",
       "</div>"
      ],
      "text/plain": [
       "                  item  cantidad  precio\n",
       "Tienda B         leche         2   65.00\n",
       "Tienda C         queso         1  155.25\n",
       "Tienda D           pan        10    5.00\n",
       "Tienda D  jugo manzana         2  170.00"
      ]
     },
     "execution_count": 20,
     "metadata": {},
     "output_type": "execute_result"
    }
   ],
   "source": [
    "compras_df.drop('Tienda A')"
   ]
  },
  {
   "cell_type": "markdown",
   "metadata": {},
   "source": [
    "#### El metodo drop por default no elimina nada, solo devuelve una copia del df sin la columna o fila indicada"
   ]
  },
  {
   "cell_type": "code",
   "execution_count": 33,
   "metadata": {},
   "outputs": [
    {
     "data": {
      "text/html": [
       "<div>\n",
       "<style scoped>\n",
       "    .dataframe tbody tr th:only-of-type {\n",
       "        vertical-align: middle;\n",
       "    }\n",
       "\n",
       "    .dataframe tbody tr th {\n",
       "        vertical-align: top;\n",
       "    }\n",
       "\n",
       "    .dataframe thead th {\n",
       "        text-align: right;\n",
       "    }\n",
       "</style>\n",
       "<table border=\"1\" class=\"dataframe\">\n",
       "  <thead>\n",
       "    <tr style=\"text-align: right;\">\n",
       "      <th></th>\n",
       "      <th>item</th>\n",
       "      <th>cantidad</th>\n",
       "      <th>precio</th>\n",
       "    </tr>\n",
       "  </thead>\n",
       "  <tbody>\n",
       "    <tr>\n",
       "      <th>Tienda A</th>\n",
       "      <td>huevos</td>\n",
       "      <td>12</td>\n",
       "      <td>7.00</td>\n",
       "    </tr>\n",
       "    <tr>\n",
       "      <th>Tienda B</th>\n",
       "      <td>leche</td>\n",
       "      <td>2</td>\n",
       "      <td>65.00</td>\n",
       "    </tr>\n",
       "    <tr>\n",
       "      <th>Tienda C</th>\n",
       "      <td>queso</td>\n",
       "      <td>1</td>\n",
       "      <td>155.25</td>\n",
       "    </tr>\n",
       "    <tr>\n",
       "      <th>Tienda D</th>\n",
       "      <td>pan</td>\n",
       "      <td>10</td>\n",
       "      <td>5.00</td>\n",
       "    </tr>\n",
       "    <tr>\n",
       "      <th>Tienda D</th>\n",
       "      <td>jugo manzana</td>\n",
       "      <td>2</td>\n",
       "      <td>170.00</td>\n",
       "    </tr>\n",
       "  </tbody>\n",
       "</table>\n",
       "</div>"
      ],
      "text/plain": [
       "                  item  cantidad  precio\n",
       "Tienda A        huevos        12    7.00\n",
       "Tienda B         leche         2   65.00\n",
       "Tienda C         queso         1  155.25\n",
       "Tienda D           pan        10    5.00\n",
       "Tienda D  jugo manzana         2  170.00"
      ]
     },
     "execution_count": 33,
     "metadata": {},
     "output_type": "execute_result"
    }
   ],
   "source": [
    "compras_df"
   ]
  },
  {
   "cell_type": "code",
   "execution_count": 45,
   "metadata": {},
   "outputs": [],
   "source": [
    "compras_df.drop?"
   ]
  },
  {
   "cell_type": "markdown",
   "metadata": {},
   "source": [
    "#### Copiando una porcion del DF:"
   ]
  },
  {
   "cell_type": "code",
   "execution_count": 46,
   "metadata": {},
   "outputs": [
    {
     "data": {
      "text/html": [
       "<div>\n",
       "<style scoped>\n",
       "    .dataframe tbody tr th:only-of-type {\n",
       "        vertical-align: middle;\n",
       "    }\n",
       "\n",
       "    .dataframe tbody tr th {\n",
       "        vertical-align: top;\n",
       "    }\n",
       "\n",
       "    .dataframe thead th {\n",
       "        text-align: right;\n",
       "    }\n",
       "</style>\n",
       "<table border=\"1\" class=\"dataframe\">\n",
       "  <thead>\n",
       "    <tr style=\"text-align: right;\">\n",
       "      <th></th>\n",
       "      <th>item</th>\n",
       "      <th>cantidad</th>\n",
       "    </tr>\n",
       "  </thead>\n",
       "  <tbody>\n",
       "    <tr>\n",
       "      <th>Tienda A</th>\n",
       "      <td>huevos</td>\n",
       "      <td>12</td>\n",
       "    </tr>\n",
       "    <tr>\n",
       "      <th>Tienda B</th>\n",
       "      <td>leche</td>\n",
       "      <td>2</td>\n",
       "    </tr>\n",
       "    <tr>\n",
       "      <th>Tienda C</th>\n",
       "      <td>queso</td>\n",
       "      <td>1</td>\n",
       "    </tr>\n",
       "    <tr>\n",
       "      <th>Tienda D</th>\n",
       "      <td>pan</td>\n",
       "      <td>10</td>\n",
       "    </tr>\n",
       "    <tr>\n",
       "      <th>Tienda D</th>\n",
       "      <td>jugo manzana</td>\n",
       "      <td>2</td>\n",
       "    </tr>\n",
       "  </tbody>\n",
       "</table>\n",
       "</div>"
      ],
      "text/plain": [
       "                  item  cantidad\n",
       "Tienda A        huevos        12\n",
       "Tienda B         leche         2\n",
       "Tienda C         queso         1\n",
       "Tienda D           pan        10\n",
       "Tienda D  jugo manzana         2"
      ]
     },
     "execution_count": 46,
     "metadata": {},
     "output_type": "execute_result"
    }
   ],
   "source": [
    "compras_item_cantidad = compras_df.copy()\n",
    "compras_item_cantidad.drop(labels='precio', axis=1, inplace=True)\n",
    "compras_item_cantidad"
   ]
  },
  {
   "cell_type": "markdown",
   "metadata": {},
   "source": [
    "#### Eliminando una columna con la sentencia del (definitivo)"
   ]
  },
  {
   "cell_type": "code",
   "execution_count": 48,
   "metadata": {},
   "outputs": [
    {
     "data": {
      "text/html": [
       "<div>\n",
       "<style scoped>\n",
       "    .dataframe tbody tr th:only-of-type {\n",
       "        vertical-align: middle;\n",
       "    }\n",
       "\n",
       "    .dataframe tbody tr th {\n",
       "        vertical-align: top;\n",
       "    }\n",
       "\n",
       "    .dataframe thead th {\n",
       "        text-align: right;\n",
       "    }\n",
       "</style>\n",
       "<table border=\"1\" class=\"dataframe\">\n",
       "  <thead>\n",
       "    <tr style=\"text-align: right;\">\n",
       "      <th></th>\n",
       "      <th>item</th>\n",
       "    </tr>\n",
       "  </thead>\n",
       "  <tbody>\n",
       "    <tr>\n",
       "      <th>Tienda A</th>\n",
       "      <td>huevos</td>\n",
       "    </tr>\n",
       "    <tr>\n",
       "      <th>Tienda B</th>\n",
       "      <td>leche</td>\n",
       "    </tr>\n",
       "    <tr>\n",
       "      <th>Tienda C</th>\n",
       "      <td>queso</td>\n",
       "    </tr>\n",
       "    <tr>\n",
       "      <th>Tienda D</th>\n",
       "      <td>pan</td>\n",
       "    </tr>\n",
       "    <tr>\n",
       "      <th>Tienda D</th>\n",
       "      <td>jugo manzana</td>\n",
       "    </tr>\n",
       "  </tbody>\n",
       "</table>\n",
       "</div>"
      ],
      "text/plain": [
       "                  item\n",
       "Tienda A        huevos\n",
       "Tienda B         leche\n",
       "Tienda C         queso\n",
       "Tienda D           pan\n",
       "Tienda D  jugo manzana"
      ]
     },
     "execution_count": 48,
     "metadata": {},
     "output_type": "execute_result"
    }
   ],
   "source": [
    "del compras_item_cantidad['cantidad']\n",
    "compras_item_cantidad\n"
   ]
  },
  {
   "cell_type": "markdown",
   "metadata": {},
   "source": [
    "### Agregando una columna al DataFrame:"
   ]
  },
  {
   "cell_type": "code",
   "execution_count": 49,
   "metadata": {},
   "outputs": [
    {
     "data": {
      "text/html": [
       "<div>\n",
       "<style scoped>\n",
       "    .dataframe tbody tr th:only-of-type {\n",
       "        vertical-align: middle;\n",
       "    }\n",
       "\n",
       "    .dataframe tbody tr th {\n",
       "        vertical-align: top;\n",
       "    }\n",
       "\n",
       "    .dataframe thead th {\n",
       "        text-align: right;\n",
       "    }\n",
       "</style>\n",
       "<table border=\"1\" class=\"dataframe\">\n",
       "  <thead>\n",
       "    <tr style=\"text-align: right;\">\n",
       "      <th></th>\n",
       "      <th>item</th>\n",
       "      <th>cliente</th>\n",
       "    </tr>\n",
       "  </thead>\n",
       "  <tbody>\n",
       "    <tr>\n",
       "      <th>Tienda A</th>\n",
       "      <td>huevos</td>\n",
       "      <td>S/A</td>\n",
       "    </tr>\n",
       "    <tr>\n",
       "      <th>Tienda B</th>\n",
       "      <td>leche</td>\n",
       "      <td>S/A</td>\n",
       "    </tr>\n",
       "    <tr>\n",
       "      <th>Tienda C</th>\n",
       "      <td>queso</td>\n",
       "      <td>S/A</td>\n",
       "    </tr>\n",
       "    <tr>\n",
       "      <th>Tienda D</th>\n",
       "      <td>pan</td>\n",
       "      <td>S/A</td>\n",
       "    </tr>\n",
       "    <tr>\n",
       "      <th>Tienda D</th>\n",
       "      <td>jugo manzana</td>\n",
       "      <td>S/A</td>\n",
       "    </tr>\n",
       "  </tbody>\n",
       "</table>\n",
       "</div>"
      ],
      "text/plain": [
       "                  item cliente\n",
       "Tienda A        huevos     S/A\n",
       "Tienda B         leche     S/A\n",
       "Tienda C         queso     S/A\n",
       "Tienda D           pan     S/A\n",
       "Tienda D  jugo manzana     S/A"
      ]
     },
     "execution_count": 49,
     "metadata": {},
     "output_type": "execute_result"
    }
   ],
   "source": [
    "compras_item_cantidad['cliente'] = 'S/A'\n",
    "compras_item_cantidad"
   ]
  },
  {
   "cell_type": "markdown",
   "metadata": {},
   "source": [
    "## Trabajando con Ficheros"
   ]
  },
  {
   "cell_type": "code",
   "execution_count": null,
   "metadata": {},
   "outputs": [],
   "source": [
    "# Cargemos este dataset: http://datos.gob.do/dataset/ocurrencias-incendios-forestales\n"
   ]
  }
 ],
 "metadata": {
  "kernelspec": {
   "display_name": "Python 3",
   "language": "python",
   "name": "python3"
  },
  "language_info": {
   "codemirror_mode": {
    "name": "ipython",
    "version": 3
   },
   "file_extension": ".py",
   "mimetype": "text/x-python",
   "name": "python",
   "nbconvert_exporter": "python",
   "pygments_lexer": "ipython3",
   "version": "3.6.9"
  }
 },
 "nbformat": 4,
 "nbformat_minor": 2
}
